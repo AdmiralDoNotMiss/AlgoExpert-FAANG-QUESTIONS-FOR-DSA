{
 "cells": [
  {
   "cell_type": "markdown",
   "id": "b808b270",
   "metadata": {},
   "source": [
    "# Palindrome Check - 4 solutions"
   ]
  },
  {
   "cell_type": "code",
   "execution_count": 19,
   "id": "189b4860",
   "metadata": {},
   "outputs": [],
   "source": [
    "def isPalindrome1(string):\n",
    "    reverseString = ''\n",
    "    for i in reversed(range(len(string))):\n",
    "        reverseString += string[i]\n",
    "    return string == reverseString\n",
    "\n",
    "# Time Complexity - O(n^2) , Space Complexity - O(n)"
   ]
  },
  {
   "cell_type": "code",
   "execution_count": 28,
   "id": "42c77e02",
   "metadata": {},
   "outputs": [
    {
     "data": {
      "text/plain": [
       "True"
      ]
     },
     "execution_count": 28,
     "metadata": {},
     "output_type": "execute_result"
    }
   ],
   "source": [
    "isPalindrome1('naman')"
   ]
  },
  {
   "cell_type": "code",
   "execution_count": 24,
   "id": "931a559d",
   "metadata": {},
   "outputs": [],
   "source": [
    "def isPalindrome2(string):\n",
    "    reversedChar = []\n",
    "    for i in reversed(range(len(string))):\n",
    "        reversedChar.append(string[i])\n",
    "    return string == ''.join(reversedChar)\n",
    "\n",
    "# Time Complexity - O(n) , Space Complexity - O(n)"
   ]
  },
  {
   "cell_type": "code",
   "execution_count": 29,
   "id": "1929148f",
   "metadata": {},
   "outputs": [
    {
     "data": {
      "text/plain": [
       "True"
      ]
     },
     "execution_count": 29,
     "metadata": {},
     "output_type": "execute_result"
    }
   ],
   "source": [
    "isPalindrome2('radar')"
   ]
  },
  {
   "cell_type": "code",
   "execution_count": 44,
   "id": "f0b6a9b2",
   "metadata": {},
   "outputs": [],
   "source": [
    "def isPalindrome3(string,i=0):\n",
    "    j = len(string)-1-i\n",
    "    if i >= j:\n",
    "        return True\n",
    "    if string[i] != string[j]:\n",
    "        return False\n",
    "    return isPalindrome3(string,i+1)\n",
    "# Time complexity is O(n/2), Hence O(n) and Space Complexity is also O(n/2), Hence O(n)"
   ]
  },
  {
   "cell_type": "code",
   "execution_count": 43,
   "id": "8fc5b651",
   "metadata": {},
   "outputs": [
    {
     "data": {
      "text/plain": [
       "True"
      ]
     },
     "execution_count": 43,
     "metadata": {},
     "output_type": "execute_result"
    }
   ],
   "source": [
    "isPalindrome3('naman')"
   ]
  },
  {
   "cell_type": "markdown",
   "id": "fe9c01ad",
   "metadata": {},
   "source": [
    "# Best Solution for this in O(n) - Time Complexity and O(1) - Space Complexity"
   ]
  },
  {
   "cell_type": "code",
   "execution_count": 47,
   "id": "da2589e6",
   "metadata": {},
   "outputs": [],
   "source": [
    "def isPalindrome4(string):\n",
    "    leftIdx = 0\n",
    "    rightIdx = len(string)-1\n",
    "    while leftIdx < rightIdx:\n",
    "        if string[leftIdx] != string[rightIdx]:\n",
    "            return False\n",
    "        leftIdx+=1\n",
    "        rightIdx -=1\n",
    "    return True"
   ]
  },
  {
   "cell_type": "code",
   "execution_count": 52,
   "id": "d32ab560",
   "metadata": {},
   "outputs": [
    {
     "data": {
      "text/plain": [
       "True"
      ]
     },
     "execution_count": 52,
     "metadata": {},
     "output_type": "execute_result"
    }
   ],
   "source": [
    "isPalindrome4('')"
   ]
  },
  {
   "cell_type": "markdown",
   "id": "d48054f2",
   "metadata": {},
   "source": [
    "# Caesar Cipher Encryptor - 2 methods Time - O(logn) Space - O(logn)"
   ]
  },
  {
   "cell_type": "code",
   "execution_count": 23,
   "id": "988d45ae",
   "metadata": {},
   "outputs": [],
   "source": [
    "def caesarCipherEncryptor(string,key):\n",
    "    newLetters = []\n",
    "    newKey = key % 26\n",
    "    for letter in string:\n",
    "        newLetters.append(getNewLetter(letter,newKey))\n",
    "    return \"\".join(newLetters)\n",
    "    \n",
    "def getNewLetter(letter,key):\n",
    "    newLetterCode = ord(letter)+ key\n",
    "    return chr(newLetterCode) if newLetterCode <= 122 else chr(96 + newLetterCode % 122)"
   ]
  },
  {
   "cell_type": "code",
   "execution_count": 24,
   "id": "7e45ac62",
   "metadata": {},
   "outputs": [
    {
     "data": {
      "text/plain": [
       "'yzab'"
      ]
     },
     "execution_count": 24,
     "metadata": {},
     "output_type": "execute_result"
    }
   ],
   "source": [
    "caesarCipherEncryptor('wxyz',2)"
   ]
  },
  {
   "cell_type": "code",
   "execution_count": 20,
   "id": "c563e284",
   "metadata": {},
   "outputs": [],
   "source": [
    "def CCE(string,key):\n",
    "    newLetters = []\n",
    "    newKey = key % 26\n",
    "    alphabet = list('abcdefghijklmnopqrstuvwxyz')\n",
    "    for letter in string:\n",
    "        newLetters.append(getNewLetter(letter,newKey,alphabet))\n",
    "        \n",
    "    return \"\".join(newLetters)\n",
    "def getNewLetter(letter,key,alphabet):\n",
    "    newLetterCode = alphabet.index(letter)+key\n",
    "    return alphabet[newLetterCode] if newLetterCode <= 25 else alphabet[-1+newLetterCode%25]"
   ]
  },
  {
   "cell_type": "code",
   "execution_count": 21,
   "id": "b8283c41",
   "metadata": {},
   "outputs": [
    {
     "data": {
      "text/plain": [
       "'yzab'"
      ]
     },
     "execution_count": 21,
     "metadata": {},
     "output_type": "execute_result"
    }
   ],
   "source": [
    "CCE('wxyz',2)"
   ]
  },
  {
   "cell_type": "markdown",
   "id": "89846647",
   "metadata": {},
   "source": [
    "# Run - Length Encoding Time - O(n) Space - O(n)"
   ]
  },
  {
   "cell_type": "code",
   "execution_count": 1,
   "id": "b45a8c71",
   "metadata": {},
   "outputs": [],
   "source": [
    "def runLengthEncoding(string):\n",
    "    encodedStringCharacters=[]\n",
    "    currentRunLength = 1\n",
    "    for i in range(1,len(string)):\n",
    "        currentCharacter = string[i]\n",
    "        previousCharacter = string[i-1]\n",
    "        if currentCharacter != previousCharacter or currentRunLength == 9:\n",
    "            encodedStringCharacters.append(str(currentRunLength))\n",
    "            encodedStringCharacters.append(previousCharacter)\n",
    "            currentRunLength = 0\n",
    "        currentRunLength += 1\n",
    "    encodedStringCharacters.append(str(currentRunLength))\n",
    "    encodedStringCharacters.append(string[len(string)-1])\n",
    "    return \"\".join(encodedStringCharacters)        "
   ]
  },
  {
   "cell_type": "code",
   "execution_count": 3,
   "id": "d529edb3",
   "metadata": {},
   "outputs": [
    {
     "data": {
      "text/plain": [
       "'9A6A5B4C3D2F2M2N'"
      ]
     },
     "execution_count": 3,
     "metadata": {},
     "output_type": "execute_result"
    }
   ],
   "source": [
    "runLengthEncoding('AAAAAAAAAAAAAAABBBBBCCCCDDDFFMMNN')"
   ]
  },
  {
   "cell_type": "markdown",
   "id": "3f6b5f3d",
   "metadata": {},
   "source": [
    "# Common Characters - 2 solutions. Time - O(n*m) Space - O(c)\n"
   ]
  },
  {
   "cell_type": "code",
   "execution_count": 14,
   "id": "d0e18dd5",
   "metadata": {},
   "outputs": [],
   "source": [
    "def commonCharacters(strings):\n",
    "    characterCounts = {}\n",
    "    for string in strings:\n",
    "        uniqueStringCharacters = set(string)\n",
    "        for character in uniqueStringCharacters:\n",
    "            if character not in characterCounts:\n",
    "                characterCounts[character] = 0\n",
    "            characterCounts[character]+=1\n",
    "    finalCharacters = []\n",
    "    for character,count in characterCounts.items():\n",
    "        if count == len(strings):\n",
    "            finalCharacters.append(character)\n",
    "    return finalCharacters"
   ]
  },
  {
   "cell_type": "code",
   "execution_count": 15,
   "id": "f6fb2418",
   "metadata": {},
   "outputs": [
    {
     "data": {
      "text/plain": [
       "['b', 'c']"
      ]
     },
     "execution_count": 15,
     "metadata": {},
     "output_type": "execute_result"
    }
   ],
   "source": [
    "commonCharacters([\"abc\", \"bcd\", \"cbaccd\"])"
   ]
  },
  {
   "cell_type": "code",
   "execution_count": 10,
   "id": "0e560ba3",
   "metadata": {},
   "outputs": [],
   "source": [
    "# Time - O(n*m), Space - O(m)\n",
    "def commonCharacter2(strings):\n",
    "    smallestString = getSmallestString(strings)\n",
    "    potentialCommonCharacters = set(smallestString)\n",
    "    for string in strings:\n",
    "        removeNonexistantCharacters(string,potentialCommonCharacters)\n",
    "    return list(potentialCommonCharacters)\n",
    "\n",
    "def getSmallestString(strings):\n",
    "    smallestString = strings[0]\n",
    "    for string in strings:\n",
    "        if len(string) < len(smallestString):\n",
    "            smallestString = string\n",
    "    return smallestString\n",
    "    \n",
    "def removeNonexistantCharacters(string,potentialCommonCharacters):\n",
    "    uniqueStringCharacters = set(string)\n",
    "    for  character in list(potentialCommonCharacters):\n",
    "        if character not in uniqueStringCharacters:\n",
    "            potentialCommonCharacters.remove(character)"
   ]
  },
  {
   "cell_type": "code",
   "execution_count": 11,
   "id": "21c13883",
   "metadata": {},
   "outputs": [
    {
     "data": {
      "text/plain": [
       "['b', 'c']"
      ]
     },
     "execution_count": 11,
     "metadata": {},
     "output_type": "execute_result"
    }
   ],
   "source": [
    "commonCharacter2([\"abc\", \"bcd\", \"cbaccd\"])"
   ]
  },
  {
   "cell_type": "code",
   "execution_count": 28,
   "id": "c982fddd",
   "metadata": {},
   "outputs": [],
   "source": [
    "def CC2(strings):\n",
    "    smallestString = getSmallestString(strings)\n",
    "    potentialCommonCharacters = set(smallestString)\n",
    "    for string in strings:\n",
    "        removeNonexistantCharacters(string,potentialCommonCharacters)\n",
    "    return list(potentialCommonCharacters)\n",
    "\n",
    "def getSmallestStrings(strings):\n",
    "    smallestString = strings[0]\n",
    "    for string in strings:\n",
    "        if len(string) < len(smallestString):\n",
    "            smallestString = string\n",
    "    return smallestString\n",
    "\n",
    "def removeNonexistantCharacters(string,potentialCommonCharacters):\n",
    "    uniqueStringCharacters = set(string)\n",
    "    for character in list(potentialCommonCharacters):\n",
    "        if character not in uniqueStringCharacters:\n",
    "            potentialCommonCharacters.remove(character)\n",
    "        "
   ]
  },
  {
   "cell_type": "code",
   "execution_count": 29,
   "id": "ae3fe339",
   "metadata": {},
   "outputs": [
    {
     "data": {
      "text/plain": [
       "['b', 'c']"
      ]
     },
     "execution_count": 29,
     "metadata": {},
     "output_type": "execute_result"
    }
   ],
   "source": [
    "CC2([\"abc\", \"bcd\", \"cbaccd\"])"
   ]
  },
  {
   "cell_type": "markdown",
   "id": "f51db465",
   "metadata": {},
   "source": [
    "# Generate Documents - 3 Solutions\n"
   ]
  },
  {
   "cell_type": "code",
   "execution_count": 6,
   "id": "093317d0",
   "metadata": {},
   "outputs": [],
   "source": [
    "# time - O(n*(n+m)) space - O(1)\n",
    "def generateDocuments(characters,document):\n",
    "    for character in document:\n",
    "        documentFrequency = countCharacterFrequency(character,document)\n",
    "        charactersFrequency = countCharacterFrequency(character,characters)\n",
    "        if documentFrequency > charactersFrequency:\n",
    "            return False\n",
    "    return True\n",
    "\n",
    "def countCharacterFrequency(character,target):\n",
    "    frequency = 0\n",
    "    for char in target:\n",
    "        if char == character:\n",
    "            frequency += 1\n",
    "    return frequency"
   ]
  },
  {
   "cell_type": "code",
   "execution_count": 7,
   "id": "6c1654aa",
   "metadata": {},
   "outputs": [
    {
     "data": {
      "text/plain": [
       "True"
      ]
     },
     "execution_count": 7,
     "metadata": {},
     "output_type": "execute_result"
    }
   ],
   "source": [
    "generateDocuments(\"Bste!hetsi ogEAxpelrt x \",\"AlgoExpert is the Best!\")"
   ]
  },
  {
   "cell_type": "code",
   "execution_count": 12,
   "id": "26c4e5b3",
   "metadata": {},
   "outputs": [],
   "source": [
    "# time - O(c*(n+m)) , space - O(c)\n",
    "def generateDocuments2(characters,document):\n",
    "    alreadyCounted = set()\n",
    "    for character in document:\n",
    "        if character in alreadyCounted:\n",
    "            continue\n",
    "        documentFrequency = countCharacterFrequency(character,document)\n",
    "        charactersFrequency = countCharacterFrequency(character,characters)\n",
    "        if documentFrequency > charactersFrequency:\n",
    "            return False\n",
    "        alreadyCounted.add(character)\n",
    "    return True\n",
    "def countCharacterFrequency(character,target):\n",
    "    frequency = 0\n",
    "    for char in target:\n",
    "        if char == character:\n",
    "            frequency += 1\n",
    "    return frequency"
   ]
  },
  {
   "cell_type": "code",
   "execution_count": 13,
   "id": "07f05cc2",
   "metadata": {},
   "outputs": [
    {
     "data": {
      "text/plain": [
       "True"
      ]
     },
     "execution_count": 13,
     "metadata": {},
     "output_type": "execute_result"
    }
   ],
   "source": [
    "generateDocuments2(\"Bste!hetsi ogEAxpelrt x \",\"AlgoExpert is the Best!\")"
   ]
  },
  {
   "cell_type": "code",
   "execution_count": 19,
   "id": "d4e50225",
   "metadata": {},
   "outputs": [],
   "source": [
    "# time - O(n+m) , space - O(c)\n",
    "def generateDocuments3(characters,document):\n",
    "    characterCounts = {}\n",
    "    for character in characters:\n",
    "        if character not in characterCounts:\n",
    "            characterCounts[character]=0\n",
    "        characterCounts[character]+=1\n",
    "    for character in document:\n",
    "        if character not in characterCounts or characterCounts[character] == 0:\n",
    "            return False\n",
    "        characterCounts[character] -= 1\n",
    "    return True"
   ]
  },
  {
   "cell_type": "code",
   "execution_count": 20,
   "id": "d2b0bb38",
   "metadata": {},
   "outputs": [
    {
     "data": {
      "text/plain": [
       "True"
      ]
     },
     "execution_count": 20,
     "metadata": {},
     "output_type": "execute_result"
    }
   ],
   "source": [
    "generateDocuments3(\"Bste!hetsi ogEAxpelrt x \",\"AlgoExpert is the Best!\")"
   ]
  },
  {
   "cell_type": "code",
   "execution_count": null,
   "id": "f258a070",
   "metadata": {},
   "outputs": [],
   "source": []
  }
 ],
 "metadata": {
  "kernelspec": {
   "display_name": "Python 3 (ipykernel)",
   "language": "python",
   "name": "python3"
  },
  "language_info": {
   "codemirror_mode": {
    "name": "ipython",
    "version": 3
   },
   "file_extension": ".py",
   "mimetype": "text/x-python",
   "name": "python",
   "nbconvert_exporter": "python",
   "pygments_lexer": "ipython3",
   "version": "3.11.2"
  }
 },
 "nbformat": 4,
 "nbformat_minor": 5
}

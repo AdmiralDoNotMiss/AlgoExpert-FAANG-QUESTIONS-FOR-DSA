{
 "cells": [
  {
   "cell_type": "markdown",
   "id": "bac7f13b",
   "metadata": {},
   "source": [
    "# Bubble SORT - Time - O(n^2) space- O(1)"
   ]
  },
  {
   "cell_type": "code",
   "execution_count": 2,
   "id": "4ceabed3",
   "metadata": {},
   "outputs": [],
   "source": [
    "def bubbleSort(array):\n",
    "    n = len(array)\n",
    "    for i in range(n-1):\n",
    "        swaps = False\n",
    "        for j in range(n-i-1):\n",
    "            if array[j] > array[j+1]:\n",
    "                swaps = True\n",
    "                array[j],array[j+1]=array[j+1],array[j]\n",
    "    if not swaps:\n",
    "        return array\n",
    "    return array"
   ]
  },
  {
   "cell_type": "code",
   "execution_count": 3,
   "id": "314582b3",
   "metadata": {},
   "outputs": [
    {
     "data": {
      "text/plain": [
       "[1, 3, 5, 9, 10]"
      ]
     },
     "execution_count": 3,
     "metadata": {},
     "output_type": "execute_result"
    }
   ],
   "source": [
    "bubbleSort([1,3,5,10,9])"
   ]
  },
  {
   "cell_type": "markdown",
   "id": "5656b5a9",
   "metadata": {},
   "source": [
    "# Insertion SORT - Time - O(n^2) space - O(1)"
   ]
  },
  {
   "cell_type": "code",
   "execution_count": 8,
   "id": "143ae632",
   "metadata": {},
   "outputs": [],
   "source": [
    "def insertionSort(array):\n",
    "    n = len(array)\n",
    "    for i in range(1,n):\n",
    "        j = i\n",
    "        while j > 0 and array[j] < array[j-1]:\n",
    "            swap(j,j-1,array)\n",
    "            j-=1\n",
    "    return array\n",
    "\n",
    "def swap(i,j,array):\n",
    "    array[i],array[j]=array[j],array[i]"
   ]
  },
  {
   "cell_type": "code",
   "execution_count": 9,
   "id": "02fcdf67",
   "metadata": {},
   "outputs": [
    {
     "data": {
      "text/plain": [
       "[1, 2, 3, 4, 5]"
      ]
     },
     "execution_count": 9,
     "metadata": {},
     "output_type": "execute_result"
    }
   ],
   "source": [
    "insertionSort([5,4,3,2,1])"
   ]
  },
  {
   "cell_type": "markdown",
   "id": "cc804420",
   "metadata": {},
   "source": [
    "# Selection Sort - Time- O(n^2) space - O(1)"
   ]
  },
  {
   "cell_type": "code",
   "execution_count": 1,
   "id": "2fb483fc",
   "metadata": {},
   "outputs": [],
   "source": [
    "def selection_sort(arr):\n",
    "    n = len(arr)\n",
    "    for i in range(n-1):\n",
    "        min_index = i\n",
    "        for j in range(i+1,n):\n",
    "            if arr[j] < arr[min_index]:\n",
    "                min_index = j\n",
    "        arr[i],arr[min_index]=arr[min_index],arr[i]\n",
    "    return arr"
   ]
  },
  {
   "cell_type": "code",
   "execution_count": 3,
   "id": "b9eb8938",
   "metadata": {},
   "outputs": [
    {
     "data": {
      "text/plain": [
       "[21, 22, 25, 29, 42, 44, 45, 56]"
      ]
     },
     "execution_count": 3,
     "metadata": {},
     "output_type": "execute_result"
    }
   ],
   "source": [
    "selection_sort([25,21,45,56,22,44,42,29])"
   ]
  },
  {
   "cell_type": "code",
   "execution_count": 1,
   "id": "ec5ac9f0",
   "metadata": {},
   "outputs": [
    {
     "name": "stdout",
     "output_type": "stream",
     "text": [
      "Radha\n"
     ]
    }
   ],
   "source": [
    "print('Radha')"
   ]
  },
  {
   "cell_type": "code",
   "execution_count": 15,
   "id": "392dc2ff",
   "metadata": {},
   "outputs": [],
   "source": [
    "def selectionSort(array):\n",
    "    n = len(array)\n",
    "    for i in range(n-1):\n",
    "        smallestIndex = i\n",
    "        for j in range(i+1,n):\n",
    "            if array[smallestIndex] > array[j]:\n",
    "                smallestIndex = j\n",
    "        array[i],array[smallestIndex]=array[smallestIndex],array[i]\n",
    "    return array\n"
   ]
  },
  {
   "cell_type": "code",
   "execution_count": 16,
   "id": "13082410",
   "metadata": {},
   "outputs": [
    {
     "data": {
      "text/plain": [
       "[1, 2, 3, 4, 5, 6, 7]"
      ]
     },
     "execution_count": 16,
     "metadata": {},
     "output_type": "execute_result"
    }
   ],
   "source": [
    "selectionSort([1,4,5,6,2,3,7])"
   ]
  },
  {
   "cell_type": "markdown",
   "id": "f143192b",
   "metadata": {},
   "source": [
    "# Three Sort number - time - O(logn) space - O(1) 1st approach 2 passes"
   ]
  },
  {
   "cell_type": "code",
   "execution_count": 3,
   "id": "8c1634d3",
   "metadata": {},
   "outputs": [],
   "source": [
    "def threeSortNumber1(array,order):\n",
    "    firstValue = order[0]\n",
    "    thirdValue = order[2]\n",
    "    \n",
    "    firstIdx = 0\n",
    "    for idx in range(len(array)):\n",
    "        if array[idx] == firstValue:\n",
    "            array[firstIdx],array[idx]=array[idx],array[firstIdx]\n",
    "            firstIdx +=1\n",
    "    thirdIdx = len(array)-1\n",
    "    for idx in range(len(array)-1,-1,-1):\n",
    "        if array[idx] == thirdValue:\n",
    "            array[thirdIdx],array[idx]=array[idx],array[thirdIdx]\n",
    "            thirdIdx-=1\n",
    "    return array"
   ]
  },
  {
   "cell_type": "code",
   "execution_count": 4,
   "id": "b21b5620",
   "metadata": {},
   "outputs": [
    {
     "data": {
      "text/plain": [
       "[0, 0, 0, 1, 1, 1, -1, -1]"
      ]
     },
     "execution_count": 4,
     "metadata": {},
     "output_type": "execute_result"
    }
   ],
   "source": [
    "threeSortNumber1([1,0,0,-1,-1,0,1,1],[0,1,-1])"
   ]
  },
  {
   "cell_type": "markdown",
   "id": "86be6591",
   "metadata": {},
   "source": [
    "# Best way to do Three Sort number in just one pass "
   ]
  },
  {
   "cell_type": "code",
   "execution_count": 7,
   "id": "ed09cba4",
   "metadata": {},
   "outputs": [],
   "source": [
    "def threeSortNumber2(array,order):\n",
    "    firstValue = order[0]\n",
    "    secondValue = order[1]\n",
    "    thirdValue = order[2]\n",
    "    \n",
    "    firstIdx = 0\n",
    "    secondIdx = 0 # using secondIdx as an iterator and as a value tracker as well\n",
    "    thirdIdx = len(array)-1\n",
    "    \n",
    "    while secondIdx <= thirdIdx: # if secondIdx crosses third, means we have already found our answer \n",
    "        value = array[secondIdx]\n",
    "        if value == firstValue:\n",
    "            array[secondIdx],array[firstIdx]=array[firstIdx],array[secondIdx]\n",
    "            firstIdx += 1\n",
    "            secondIdx += 1\n",
    "        elif value == secondValue:\n",
    "            secondIdx += 1\n",
    "        else:\n",
    "            array[secondIdx],array[thirdIdx]=array[thirdIdx],array[secondIdx]\n",
    "            thirdIdx -= 1\n",
    "    return array\n",
    "    "
   ]
  },
  {
   "cell_type": "code",
   "execution_count": 8,
   "id": "dfbd0eab",
   "metadata": {},
   "outputs": [
    {
     "data": {
      "text/plain": [
       "[0, 0, 0, 1, 1, 1, -1, -1]"
      ]
     },
     "execution_count": 8,
     "metadata": {},
     "output_type": "execute_result"
    }
   ],
   "source": [
    "threeSortNumber2([1,0,0,-1,-1,0,1,1],[0,1,-1])"
   ]
  },
  {
   "cell_type": "markdown",
   "id": "44919c93",
   "metadata": {},
   "source": [
    "  # Quick Sort - Time - O(nlog(n)) space - O(log(n))"
   ]
  },
  {
   "cell_type": "code",
   "execution_count": 1,
   "id": "6db4ede3",
   "metadata": {},
   "outputs": [],
   "source": [
    "def quickSort(array):\n",
    "    quickSortHelper(array,0,len(array)-1)\n",
    "    return array\n",
    "\n",
    "def quickSortHelper(array,startIdx,endIdx):\n",
    "    if startIdx >= endIdx:\n",
    "        return\n",
    "    pivotIdx = startIdx\n",
    "    leftIdx = startIdx + 1\n",
    "    rightIdx = endIdx\n",
    "    \n",
    "    while leftIdx <= rightIdx:\n",
    "        if array[leftIdx] > array[pivotIdx] and array[rightIdx] < array[pivotIdx]:\n",
    "            swap(leftIdx,rightIdx,array)\n",
    "            rightIdx -= 1\n",
    "        if array[leftIdx] <= array[pivotIdx]:\n",
    "            leftIdx +=1\n",
    "        if array[rightIdx] >= array[pivotIdx]:\n",
    "            rightIdx -= 1\n",
    "    swap(pivotIdx,rightIdx,array)\n",
    "    leftSubarrayIsSmaller = rightIdx-1 - startIdx < endIdx - rightIdx+1\n",
    "    if  leftSubarrayIsSmaller:\n",
    "        quickSortHelper(array,startIdx,rightIdx-1)\n",
    "        quickSortHelper(array,rightIdx+1,endIdx)\n",
    "    else:\n",
    "        quickSortHelper(array,rightIdx+1,endIdx)\n",
    "        quickSortHelper(array,startIdx+1,rightIdx-1)\n",
    "        \n",
    "def swap(i,j,array):\n",
    "    array[i],array[j]=array[j],array[i]\n",
    "        \n"
   ]
  },
  {
   "cell_type": "code",
   "execution_count": 2,
   "id": "a536b88f",
   "metadata": {},
   "outputs": [
    {
     "data": {
      "text/plain": [
       "[9, 14, 19, 24, 27, 29]"
      ]
     },
     "execution_count": 2,
     "metadata": {},
     "output_type": "execute_result"
    }
   ],
   "source": [
    "quickSort([24,9,29,14,19,27])"
   ]
  },
  {
   "cell_type": "code",
   "execution_count": 7,
   "id": "e8b5d7d0",
   "metadata": {},
   "outputs": [],
   "source": [
    "def quick_sort(array):\n",
    "    quick_sort_helper(array,0,len(array)-1)\n",
    "    return array\n",
    "    \n",
    "def quick_sort_helper(array,startIdx,endIdx):\n",
    "    if startIdx >= endIdx:\n",
    "        return\n",
    "    pivotIdx = startIdx\n",
    "    leftIdx = startIdx+1\n",
    "    rightIdx = endIdx\n",
    "    while leftIdx <= rightIdx:\n",
    "        if array[leftIdx]> array[pivotIdx] and array[rightIdx]< array[pivotIdx]:\n",
    "            swap(leftIdx,rightIdx,array)\n",
    "            \n",
    "        if array[leftIdx]<=array[pivotIdx]:\n",
    "            leftIdx += 1\n",
    "        if array[rightIdx]>= array[pivotIdx]:\n",
    "            rightIdx -= 1\n",
    "    swap(pivotIdx,rightIdx,array)\n",
    "    leftSubarrayIsSmaller = (rightIdx-1) - (startIdx) < (endIdx) - (rightIdx+1)\n",
    "    if leftSubarrayIsSmaller:\n",
    "        quick_sort_helper(array,startIdx,rightIdx-1)\n",
    "        quick_sort_helper(array,rightIdx+1,endIdx)\n",
    "    else:\n",
    "        quick_sort_helper(array,rightIdx+1,endIdx)\n",
    "        quick_sort_helper(array,startIdx,rightIdx-1)\n",
    "        \n",
    "def swap(i,j,array):\n",
    "    array[i],array[j] = array[j],array[i]\n",
    "        "
   ]
  },
  {
   "cell_type": "code",
   "execution_count": 8,
   "id": "dee1a88c",
   "metadata": {},
   "outputs": [
    {
     "data": {
      "text/plain": [
       "[9, 14, 19, 24, 27, 29]"
      ]
     },
     "execution_count": 8,
     "metadata": {},
     "output_type": "execute_result"
    }
   ],
   "source": [
    "quick_sort([24,9,29,14,19,27])"
   ]
  },
  {
   "cell_type": "markdown",
   "id": "f7fa1da5",
   "metadata": {},
   "source": [
    "# Merge and Merge sort at one place. Time - O(nlogn) Space - O(n)\n"
   ]
  },
  {
   "cell_type": "code",
   "execution_count": 10,
   "id": "ddd647b5",
   "metadata": {},
   "outputs": [],
   "source": [
    "def merge(A,B):\n",
    "    minA = 0\n",
    "    minB = 0\n",
    "    C = []\n",
    "    while minA != len(A) and minB != len(B):\n",
    "        if A[minA]< B[minB]:\n",
    "            C.append(A[minA])\n",
    "            minA += 1\n",
    "        else:\n",
    "            C.append(B[minB])\n",
    "            minB += 1\n",
    "    if minA == len(A):\n",
    "        C = C + B[minB:]\n",
    "    else:\n",
    "        C = C + A[minA:]\n",
    "    return C\n",
    "\n",
    "def mergeSort(U):\n",
    "    left = 0\n",
    "    right = len(U)\n",
    "    middle = (left+right)//2\n",
    "    U1 = U[:middle]\n",
    "    U2 = U[middle:]\n",
    "    if len(U1) != 1:\n",
    "        U1 = mergeSort(U1)\n",
    "    if len(U2) != 1:\n",
    "        U2 = mergeSort(U2)\n",
    "        \n",
    "    return merge(U1,U2)"
   ]
  },
  {
   "cell_type": "code",
   "execution_count": 11,
   "id": "6af6cc57",
   "metadata": {},
   "outputs": [
    {
     "data": {
      "text/plain": [
       "[2, 3, 5, 5, 6, 8, 9]"
      ]
     },
     "execution_count": 11,
     "metadata": {},
     "output_type": "execute_result"
    }
   ],
   "source": [
    "mergeSort([8, 5, 2, 9, 5, 6, 3])"
   ]
  },
  {
   "cell_type": "code",
   "execution_count": null,
   "id": "76208cda",
   "metadata": {},
   "outputs": [],
   "source": []
  },
  {
   "cell_type": "code",
   "execution_count": 7,
   "id": "3ed96a16",
   "metadata": {},
   "outputs": [
    {
     "ename": "NameError",
     "evalue": "name 'merge_sort' is not defined",
     "output_type": "error",
     "traceback": [
      "\u001b[1;31m---------------------------------------------------------------------------\u001b[0m",
      "\u001b[1;31mNameError\u001b[0m                                 Traceback (most recent call last)",
      "Cell \u001b[1;32mIn[7], line 1\u001b[0m\n\u001b[1;32m----> 1\u001b[0m \u001b[43mmerge_sort\u001b[49m([\u001b[38;5;241m8\u001b[39m, \u001b[38;5;241m5\u001b[39m, \u001b[38;5;241m2\u001b[39m, \u001b[38;5;241m9\u001b[39m, \u001b[38;5;241m5\u001b[39m, \u001b[38;5;241m6\u001b[39m, \u001b[38;5;241m3\u001b[39m])\n",
      "\u001b[1;31mNameError\u001b[0m: name 'merge_sort' is not defined"
     ]
    }
   ],
   "source": []
  },
  {
   "cell_type": "code",
   "execution_count": null,
   "id": "6762faa0",
   "metadata": {},
   "outputs": [],
   "source": []
  }
 ],
 "metadata": {
  "kernelspec": {
   "display_name": "Python 3 (ipykernel)",
   "language": "python",
   "name": "python3"
  },
  "language_info": {
   "codemirror_mode": {
    "name": "ipython",
    "version": 3
   },
   "file_extension": ".py",
   "mimetype": "text/x-python",
   "name": "python",
   "nbconvert_exporter": "python",
   "pygments_lexer": "ipython3",
   "version": "3.11.2"
  }
 },
 "nbformat": 4,
 "nbformat_minor": 5
}

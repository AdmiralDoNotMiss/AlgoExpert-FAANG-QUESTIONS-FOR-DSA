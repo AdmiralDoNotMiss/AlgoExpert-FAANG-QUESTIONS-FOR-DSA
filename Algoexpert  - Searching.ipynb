{
 "cells": [
  {
   "cell_type": "markdown",
   "id": "21e74e0c",
   "metadata": {},
   "source": [
    "# Recursive Binary Search Time complexity - (O(LOGn)) , Space -(O(LOGn))"
   ]
  },
  {
   "cell_type": "code",
   "execution_count": 5,
   "id": "09088e8f",
   "metadata": {},
   "outputs": [],
   "source": [
    "def binarySearch(array,target):\n",
    "    return BinarySearchHelper(array,target,0,len(array)-1)\n",
    "def BinarySearchHelper(array,target,left,right):\n",
    "    if left > right:\n",
    "        return -1\n",
    "    middle = (left+right)//2\n",
    "    potentialmatch = array[middle]\n",
    "    if target == potentialmatch:\n",
    "        return middle\n",
    "    elif target > potentialmatch:\n",
    "        return BinarySearchHelper(array,target,middle+1,right)\n",
    "    else:\n",
    "        return BinarySearchHelper(array,target,left,middle-1)"
   ]
  },
  {
   "cell_type": "code",
   "execution_count": 4,
   "id": "dc294a96",
   "metadata": {},
   "outputs": [
    {
     "data": {
      "text/plain": [
       "3"
      ]
     },
     "execution_count": 4,
     "metadata": {},
     "output_type": "execute_result"
    }
   ],
   "source": [
    "binarySearch([0, 1, 21, 33, 45, 45, 61, 71, 72, 73],33)"
   ]
  },
  {
   "cell_type": "code",
   "execution_count": 6,
   "id": "fdea3c25",
   "metadata": {},
   "outputs": [],
   "source": [
    "def BinarySearchHelper(array,target,left,right):\n",
    "    while left <= right:\n",
    "        middle = (left+right)//2\n",
    "        potentialmatch = array[middle]\n",
    "        if target == potentialmatch:\n",
    "            return middle\n",
    "        elif target < potentialmatch:\n",
    "            right = middle-1\n",
    "        else:\n",
    "            left = middle+1\n",
    "    return -1\n",
    "        \n",
    "            "
   ]
  },
  {
   "cell_type": "code",
   "execution_count": 7,
   "id": "8eea634e",
   "metadata": {},
   "outputs": [
    {
     "data": {
      "text/plain": [
       "3"
      ]
     },
     "execution_count": 7,
     "metadata": {},
     "output_type": "execute_result"
    }
   ],
   "source": [
    "binarySearch([1,5,23,111],111)"
   ]
  },
  {
   "cell_type": "markdown",
   "id": "95ddc8e2",
   "metadata": {},
   "source": [
    "# Recursive code to find three largest numbers Time- O(n), Space-O(1)"
   ]
  },
  {
   "cell_type": "code",
   "execution_count": 1,
   "id": "10e4347c",
   "metadata": {},
   "outputs": [],
   "source": [
    "def ThreeLargestNumber(array):\n",
    "    ThreeLargest = [None,None,None]\n",
    "    for num in array:\n",
    "        UpdateThreeLargest(ThreeLargest,num)\n",
    "    return ThreeLargest\n",
    "\n",
    "def UpdateThreeLargest(ThreeLargest,num):\n",
    "    if ThreeLargest[2] is None or num > ThreeLargest[2]:\n",
    "        ShiftandUpdate(ThreeLargest,num,2)\n",
    "    elif ThreeLargest[1] is None or num > ThreeLargest[1]:\n",
    "        ShiftandUpdate(ThreeLargest,num,1)\n",
    "    elif ThreeLargest[0] is None or num > ThreeLargest[0]:\n",
    "        ShiftandUpdate(ThreeLargest,num,0)\n",
    "\n",
    "def ShiftandUpdate(array,num,idx):\n",
    "    for i in range(idx+1):\n",
    "        if i == idx:\n",
    "            array[i] = num\n",
    "        else:\n",
    "            array[i] = array[i+1]"
   ]
  },
  {
   "cell_type": "code",
   "execution_count": 2,
   "id": "af788701",
   "metadata": {},
   "outputs": [
    {
     "data": {
      "text/plain": [
       "[18, 141, 541]"
      ]
     },
     "execution_count": 2,
     "metadata": {},
     "output_type": "execute_result"
    }
   ],
   "source": [
    "ThreeLargestNumber([141, 1, 17, -7, -17, -27, 18, 541, 8, 7, 7])"
   ]
  },
  {
   "cell_type": "markdown",
   "id": "9e89dfea",
   "metadata": {},
   "source": [
    "# Search in sorted matrix - Time - O(N+M) space - O(1)"
   ]
  },
  {
   "cell_type": "code",
   "execution_count": 7,
   "id": "c0d6073e",
   "metadata": {},
   "outputs": [],
   "source": [
    "def SearchinSortedMatrix(matrix,target):\n",
    "    row = 0\n",
    "    col = len(matrix[0])-1\n",
    "    while row < len(matrix) and col >= 0:\n",
    "        if matrix[row][col] > target:\n",
    "            col -= 1\n",
    "        elif matrix[row][col] < target:\n",
    "            row += 1\n",
    "        else: \n",
    "            return [row,col]\n",
    "    return [-1,-1]"
   ]
  },
  {
   "cell_type": "code",
   "execution_count": 8,
   "id": "10ccd88c",
   "metadata": {},
   "outputs": [
    {
     "data": {
      "text/plain": [
       "[-1, -1]"
      ]
     },
     "execution_count": 8,
     "metadata": {},
     "output_type": "execute_result"
    }
   ],
   "source": [
    "SearchinSortedMatrix([  [1, 4, 7, 12, 15, 1000],  [2, 5, 19, 31, 32, 1001],  [3, 8, 24, 33, 35, 1002],  [40, 41, 42, 44, 45, 1003],  [99, 100, 103, 106, 128, 1004]],1005)"
   ]
  },
  {
   "cell_type": "markdown",
   "id": "722eec21",
   "metadata": {},
   "source": [
    "# Recursive Shifted Binary Search - Time - O(logn) space - O(logn)"
   ]
  },
  {
   "cell_type": "code",
   "execution_count": 1,
   "id": "bac61fcc",
   "metadata": {},
   "outputs": [],
   "source": [
    "def ShiftedBinarySearch(array,target):\n",
    "    return ShiftedBinarySearchHelper(array,target,0,len(array)-1)\n",
    "\n",
    "def ShiftedBinarySearchHelper(array,target,left,right):\n",
    "    middle = (left + right)//2\n",
    "    if left > right:\n",
    "        return -1\n",
    "    potentialMatch = array[middle]\n",
    "    leftNum = array[left]\n",
    "    rightNum = array[right]\n",
    "    if target == potentialMatch:\n",
    "        return middle\n",
    "    elif leftNum <= potentialMatch:\n",
    "        if target < potentialMatch and target >= leftNum:\n",
    "            return ShiftedBinarySearchHelper(array,target,left,middle-1)\n",
    "        else:\n",
    "            return ShiftedBinarySearchHelper(array,target,middle+1,right)\n",
    "    else:\n",
    "        if target > potentialMatch and target <= rightNum:\n",
    "            return ShiftedBinarySearchHelper(array,target,middle+1,right)\n",
    "        else:\n",
    "            return ShiftedBinarySearchHelper(array,target,left,middle-1)\n",
    "    \n"
   ]
  },
  {
   "cell_type": "code",
   "execution_count": 2,
   "id": "9f369754",
   "metadata": {},
   "outputs": [
    {
     "data": {
      "text/plain": [
       "2"
      ]
     },
     "execution_count": 2,
     "metadata": {},
     "output_type": "execute_result"
    }
   ],
   "source": [
    "ShiftedBinarySearch([5,23,111,1],111)"
   ]
  },
  {
   "cell_type": "markdown",
   "id": "9185a6fa",
   "metadata": {},
   "source": [
    "# Shifted Binary Search - Iterative - Time - O(logn) Space - O(1)"
   ]
  },
  {
   "cell_type": "code",
   "execution_count": 7,
   "id": "5626806e",
   "metadata": {},
   "outputs": [],
   "source": [
    "def ShiftedBinary(array,target):\n",
    "    left = 0\n",
    "    right = len(array)-1\n",
    "    while left <= right:\n",
    "        middle = (left+right)//2\n",
    "        potentialMatch = array[middle]\n",
    "        leftNum = array[left]\n",
    "        rightNum = array[right]\n",
    "        if target == potentialMatch:\n",
    "            return middle\n",
    "        elif leftNum <= potentialMatch:\n",
    "            if target < potentialMatch and target >= leftNum:\n",
    "                right = middle - 1\n",
    "            else:\n",
    "                left = middle + 1\n",
    "        else:\n",
    "            if target > potentialMatch and target <= rightNum:\n",
    "                left = middle + 1\n",
    "            else:\n",
    "                right = middle -1\n",
    "    return -1\n",
    "                "
   ]
  },
  {
   "cell_type": "code",
   "execution_count": 8,
   "id": "deb852d6",
   "metadata": {},
   "outputs": [
    {
     "data": {
      "text/plain": [
       "7"
      ]
     },
     "execution_count": 8,
     "metadata": {},
     "output_type": "execute_result"
    }
   ],
   "source": [
    "ShiftedBinary([61,71,72,73,0,1,21,33,37,45],33)"
   ]
  },
  {
   "cell_type": "markdown",
   "id": "5b327504",
   "metadata": {},
   "source": [
    "# Recursive Range for search Binary - Time - O(logn) Space - O(logn)"
   ]
  },
  {
   "cell_type": "code",
   "execution_count": 7,
   "id": "071fe064",
   "metadata": {},
   "outputs": [],
   "source": [
    "def searchForRange(array,target):\n",
    "    FinalRange = [-1,-1]\n",
    "    alteredBinarySearch(array,target,0,len(array)-1,FinalRange,True)\n",
    "    alteredBinarySearch(array,target,0,len(array)-1,FinalRange,False)\n",
    "    return FinalRange\n",
    "\n",
    "def alteredBinarySearch(array,target,left,right,FinalRange,goleft):\n",
    "    if left > right:\n",
    "        return\n",
    "    mid = (left+right)//2\n",
    "    if array[mid] > target:\n",
    "        alteredBinarySearch(array,target,left,mid-1,FinalRange,goleft)\n",
    "    elif array[mid] < target:\n",
    "        alteredBinarySearch(array,target,mid+1,right,FinalRange,goleft)\n",
    "    else:\n",
    "        if goleft:\n",
    "            if mid == 0 or array[mid-1] != target:\n",
    "                FinalRange[0] = mid\n",
    "                return\n",
    "            else:\n",
    "                alteredBinarySearch(array,target,left,mid-1,FinalRange,goleft)\n",
    "        else:\n",
    "            if mid == len(array)-1 or array[mid+1] != target:\n",
    "                FinalRange[1] = mid\n",
    "                return\n",
    "            else:\n",
    "                alteredBinarySearch(array,target,mid+1,right,FinalRange,goleft)"
   ]
  },
  {
   "cell_type": "code",
   "execution_count": 8,
   "id": "035be07a",
   "metadata": {},
   "outputs": [
    {
     "data": {
      "text/plain": [
       "[4, 9]"
      ]
     },
     "execution_count": 8,
     "metadata": {},
     "output_type": "execute_result"
    }
   ],
   "source": [
    "searchForRange([0, 1, 21, 33, 45, 45, 45, 45, 45, 45, 61, 71, 73],45)"
   ]
  },
  {
   "cell_type": "markdown",
   "id": "05aa031e",
   "metadata": {},
   "source": [
    "# Iterative code to search for range binary Time- O(logn) Space - O(1)"
   ]
  },
  {
   "cell_type": "code",
   "execution_count": 11,
   "id": "93077ea2",
   "metadata": {},
   "outputs": [],
   "source": [
    "def SearchforRange1(array,target):\n",
    "    final_range = [-1,-1]\n",
    "    alteredbinary(array,target,0,len(array)-1,final_range,True)\n",
    "    alteredbinary(array,target,0,len(array)-1,final_range,False)\n",
    "    return final_range\n",
    "\n",
    "def alteredbinary(array,target,left,right,final_range,goleft):\n",
    "    while left <= right:\n",
    "        mid = (left+right)//2\n",
    "        if array[mid] < target:\n",
    "            left = mid+1\n",
    "        elif array[mid] > target:\n",
    "            right = mid-1\n",
    "        else:\n",
    "            if goleft:\n",
    "                if mid == 0 or array[mid-1] != target:\n",
    "                    final_range[0]=mid\n",
    "                    return\n",
    "                else:\n",
    "                    right = mid-1\n",
    "            else:\n",
    "                if mid == len(array)-1 or array[mid+1] != target:\n",
    "                    final_range[1] = mid\n",
    "                    return\n",
    "                else:\n",
    "                    left = mid+1\n",
    "    return"
   ]
  },
  {
   "cell_type": "code",
   "execution_count": 12,
   "id": "a005cc72",
   "metadata": {},
   "outputs": [
    {
     "data": {
      "text/plain": [
       "[4, 9]"
      ]
     },
     "execution_count": 12,
     "metadata": {},
     "output_type": "execute_result"
    }
   ],
   "source": [
    "SearchforRange1([0, 1, 21, 33, 45, 45, 45, 45, 45, 45, 61, 71, 73],45)"
   ]
  },
  {
   "cell_type": "markdown",
   "id": "c3b2abb5",
   "metadata": {},
   "source": [
    "# Index Equals Value - Brute Force Approach - Time- O(n) Space - O(1)"
   ]
  },
  {
   "cell_type": "code",
   "execution_count": 1,
   "id": "80983152",
   "metadata": {},
   "outputs": [],
   "source": [
    "def indexEqualsValue1(array):\n",
    "    for index in range(len(array)):\n",
    "        value = array[index]\n",
    "        if index == value:\n",
    "            return index\n",
    "    return -1"
   ]
  },
  {
   "cell_type": "code",
   "execution_count": 2,
   "id": "77d7f0f9",
   "metadata": {},
   "outputs": [
    {
     "data": {
      "text/plain": [
       "3"
      ]
     },
     "execution_count": 2,
     "metadata": {},
     "output_type": "execute_result"
    }
   ],
   "source": [
    "indexEqualsValue1([-5, -3, 0, 3, 4, 5, 9])"
   ]
  },
  {
   "cell_type": "markdown",
   "id": "bbe2a58b",
   "metadata": {},
   "source": [
    "# Index Equals Value - Recursive Approach - Time - O(Logn) Space - O(Logn)"
   ]
  },
  {
   "cell_type": "code",
   "execution_count": 8,
   "id": "73de85fa",
   "metadata": {},
   "outputs": [],
   "source": [
    "def indexEqualsValue2(array):\n",
    "    return indexEqualsValue2Helper(array,0,len(array)-1)\n",
    "    \n",
    "    \n",
    "def indexEqualsValue2Helper(array,leftIndex,rightIndex):\n",
    "    if leftIndex > rightIndex :\n",
    "        return -1\n",
    "    middleIndex = (leftIndex + rightIndex)//2\n",
    "    middleValue = array[middleIndex]\n",
    "    if middleValue < middleIndex:\n",
    "        return indexEqualsValue2Helper(array,middleIndex+1,right)\n",
    "    elif middleValue == middleIndex and middleIndex == 0:\n",
    "        return middleIndex\n",
    "    elif middleValue == middleIndex and array[middleIndex-1] < middleIndex-1:\n",
    "        return middleIndex\n",
    "    else:\n",
    "        return indexEqualsValue2Helper(array,left,middleIndex-1)"
   ]
  },
  {
   "cell_type": "code",
   "execution_count": 9,
   "id": "f77854f6",
   "metadata": {},
   "outputs": [
    {
     "data": {
      "text/plain": [
       "3"
      ]
     },
     "execution_count": 9,
     "metadata": {},
     "output_type": "execute_result"
    }
   ],
   "source": [
    "indexEqualsValue2([-5, -3, 0, 3, 4, 5, 9])"
   ]
  },
  {
   "cell_type": "markdown",
   "id": "31a7e3d5",
   "metadata": {},
   "source": [
    "# Iterative Approach IndexEqualsValue - Time - O(Logn) Space - O(1)\n"
   ]
  },
  {
   "cell_type": "code",
   "execution_count": 10,
   "id": "366975f9",
   "metadata": {},
   "outputs": [],
   "source": [
    "def indexEqualsValue3(array):\n",
    "    leftIndex = 0\n",
    "    rightIndex = len(array)-1\n",
    "    while leftIndex <= rightIndex:\n",
    "        middleIndex = (leftIndex+rightIndex)//2\n",
    "        middleValue = array[middleIndex]\n",
    "        if middleValue < middleIndex:\n",
    "            leftIndex = middleIndex+1\n",
    "        elif middleValue == middleIndex and middleIndex == 0:\n",
    "            return middleIndex\n",
    "        elif middleValue == middleIndex and array[middleIndex-1] < middleIndex-1:\n",
    "            return middleIndex\n",
    "        else:\n",
    "            rightIndex = middleIndex-1\n",
    "    return -1"
   ]
  },
  {
   "cell_type": "code",
   "execution_count": 11,
   "id": "6c75d3e6",
   "metadata": {},
   "outputs": [
    {
     "data": {
      "text/plain": [
       "3"
      ]
     },
     "execution_count": 11,
     "metadata": {},
     "output_type": "execute_result"
    }
   ],
   "source": [
    "indexEqualsValue3([-5, -3, 0, 3, 4, 5, 9])"
   ]
  },
  {
   "cell_type": "markdown",
   "id": "5300bc80",
   "metadata": {},
   "source": [
    "# Kth Smallest Integer / Quick Select - Time - O(n) , space O(1)\n"
   ]
  },
  {
   "cell_type": "code",
   "execution_count": null,
   "id": "d0f87c0c",
   "metadata": {},
   "outputs": [],
   "source": [
    "def quickSelect(array,k):\n",
    "    position = k-1\n",
    "    return quickSelectHelper(array,0,len(array)-1,position)\n",
    "\n",
    "def quickSelectHelper(array,startIdx,endIdx,position):\n",
    "    while True:\n",
    "        if startIdx > endIdx :\n",
    "            raise Exception('your algorithm should never arrive here')\n",
    "            \n",
    "        pivotIdx = startIdx\n",
    "        leftIdx = startIdx + 1\n",
    "        rightIdx = endIdx\n",
    "        while leftIdx <= rightIdx:\n",
    "            if array[leftIdx] > array[pivotIdx] and array[rightIdx] < array[pivotIdx]:\n",
    "                swap(leftIdx,rightIdx,array)\n",
    "            if array[leftIdx] < array[pivotIdx]:\n",
    "                leftIdx += 1\n",
    "            if array[rightIdx] > array[pivotIdx]:\n",
    "                rightIdx -= 1\n",
    "        swap(pivotIdx,rightIdx,array)\n",
    "        if rightIdx == position:\n",
    "            return array[rightIdx]\n",
    "        elif position < rightIdx:\n",
    "            endIdx = rightIdx - 1\n",
    "        else:\n",
    "            startIdx = rightIdx + 1\n",
    "def swap(i,j,array):\n",
    "    array[i],arra[j]=array[j],array[i]"
   ]
  }
 ],
 "metadata": {
  "kernelspec": {
   "display_name": "Python 3 (ipykernel)",
   "language": "python",
   "name": "python3"
  },
  "language_info": {
   "codemirror_mode": {
    "name": "ipython",
    "version": 3
   },
   "file_extension": ".py",
   "mimetype": "text/x-python",
   "name": "python",
   "nbconvert_exporter": "python",
   "pygments_lexer": "ipython3",
   "version": "3.11.2"
  }
 },
 "nbformat": 4,
 "nbformat_minor": 5
}
